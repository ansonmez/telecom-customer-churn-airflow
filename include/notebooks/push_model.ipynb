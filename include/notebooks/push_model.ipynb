{
 "cells": [
  {
   "cell_type": "code",
   "execution_count": null,
   "metadata": {},
   "outputs": [],
   "source": [
    "prod_model_location = \"\"\n",
    "\n",
    "best_model_task_id = xcom_pull(key='BestModel', task_id=\"CompareModels\")\n",
    "best_model_location = xcom_pull(key='ModelLocation', task_id=best_model_task_id)"
   ]
  },
  {
   "cell_type": "code",
   "execution_count": null,
   "metadata": {},
   "outputs": [],
   "source": [
    "model = load(best_model_location)\n",
    "save(prod_model_location)"
   ]
  }
 ],
 "metadata": {
  "language_info": {
   "name": "python"
  },
  "orig_nbformat": 4
 },
 "nbformat": 4,
 "nbformat_minor": 2
}
