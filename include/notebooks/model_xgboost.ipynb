{
 "cells": [
  {
   "cell_type": "code",
   "execution_count": null,
   "metadata": {},
   "outputs": [],
   "source": [
    "from xgboost import XGBClassifier\n",
    "from sklearn import metrics\n",
    "\n",
    "save_location = xcom_pull(key='TrainingAndTestingStorage', task_id=\"process_data\")\n",
    "\n",
    "X_train, y_train, X_test, y_test = load(save_location)\n",
    "\n",
    "model = XGBClassifier()\n",
    "model.fit(X_train, y_train)"
   ]
  },
  {
   "cell_type": "code",
   "execution_count": null,
   "metadata": {},
   "outputs": [],
   "source": [
    "model_location = save(model)\n",
    "xcom_push(key='ModelLocation', value=model_location)"
   ]
  },
  {
   "cell_type": "code",
   "execution_count": null,
   "metadata": {},
   "outputs": [],
   "source": [
    "preds = model.predict(X_test)\n",
    "accuracy = metrics.accuracy_score(y_test, preds)\n",
    "xcom_push(key='Accuracy', value=accuracy)"
   ]
  }
 ],
 "metadata": {
  "language_info": {
   "name": "python"
  },
  "orig_nbformat": 4
 },
 "nbformat": 4,
 "nbformat_minor": 2
}
