{
 "cells": [
  {
   "cell_type": "code",
   "execution_count": null,
   "metadata": {},
   "outputs": [],
   "source": [
    "from sklearn.ensemble import GradientBoostingClassifier\n",
    "from sklearn import metrics\n",
    "import pickle\n",
    "import boto3\n",
    "import os"
   ]
  },
  {
   "cell_type": "code",
   "execution_count": null,
   "metadata": {},
   "outputs": [],
   "source": [
    "# Initializing S3 access\n",
    "key_id = os.environ.get(\"AWS_ACCESS_KEY_ID\")\n",
    "secret_key = os.environ.get(\"AWS_SECRET_ACCESS_KEY\")\n",
    "endpoint = os.environ.get(\"AWS_S3_ENDPOINT\")\n",
    "bucket_name = os.environ.get(\"AWS_S3_BUCKET\")\n",
    "data_bucket_key = \"processed_customer_churn_data\"\n",
    "model_bucket_key = \"gradient_boost_model\"\n",
    "\n",
    "session = boto3.session.Session(aws_access_key_id=key_id, aws_secret_access_key=secret_key)\n",
    "s3 = session.resource(service_name='s3', endpoint_url=endpoint)"
   ]
  },
  {
   "cell_type": "code",
   "execution_count": null,
   "metadata": {},
   "outputs": [],
   "source": [
    "# Load the processed data\n",
    "pickled_data = s3.Bucket(bucket_name).Object(data_bucket_key).get()['Body'].read()\n",
    "X_train, X_test, y_train, y_test = pickle.loads(pickled_data)"
   ]
  },
  {
   "cell_type": "code",
   "execution_count": null,
   "metadata": {},
   "outputs": [],
   "source": [
    "# Create and train the model\n",
    "xgb_model = GradientBoostingClassifier()\n",
    "xgb_model.fit(X_train, y_train)"
   ]
  },
  {
   "cell_type": "code",
   "execution_count": null,
   "metadata": {},
   "outputs": [],
   "source": [
    "# Test accuracy\n",
    "preds = xgb_model.predict(X_test)\n",
    "accuracy = metrics.accuracy_score(y_test, preds)\n",
    "print(accuracy)"
   ]
  },
  {
   "cell_type": "code",
   "execution_count": null,
   "metadata": {},
   "outputs": [],
   "source": [
    "# Upload the model and performance to S3\n",
    "model_and_performance = (xgb_model, accuracy)\n",
    "pickled_data = pickle.dumps(model_and_performance, protocol=pickle.HIGHEST_PROTOCOL)\n",
    "s3.Bucket(bucket_name).put_object(Key=model_bucket_key, Body=pickled_data)"
   ]
  }
 ],
 "metadata": {
  "kernelspec": {
   "display_name": "airflow",
   "language": "python",
   "name": "python3"
  },
  "language_info": {
   "codemirror_mode": {
    "name": "ipython",
    "version": 3
   },
   "file_extension": ".py",
   "mimetype": "text/x-python",
   "name": "python",
   "nbconvert_exporter": "python",
   "pygments_lexer": "ipython3",
   "version": "3.10.8"
  },
  "orig_nbformat": 4,
  "vscode": {
   "interpreter": {
    "hash": "2e3faf9729b7090bb03b222634211c9cfe48ae823637b8ba67422da03c70d659"
   }
  }
 },
 "nbformat": 4,
 "nbformat_minor": 2
}
