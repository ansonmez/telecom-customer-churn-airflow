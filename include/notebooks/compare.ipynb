{
 "cells": [
  {
   "cell_type": "code",
   "execution_count": null,
   "metadata": {},
   "outputs": [],
   "source": [
    "xgboost_acc = xcom_pull(key='Accuracy', task_id=\"XGBoostTrainAndEval\")\n",
    "randomforest_acc = xcom_pull(key='Accuracy', task_id=\"RandomForestTrainAndEval\")\n",
    "\n",
    "if xgboost_acc>randomforest_acc:\n",
    "    xcom_push(key='BestModel', value=xgboost_acc.task_id)\n",
    "else:\n",
    "    xcom_push(key='BestModel', value=randomforest_acc.task_id)"
   ]
  }
 ],
 "metadata": {
  "language_info": {
   "name": "python"
  },
  "orig_nbformat": 4
 },
 "nbformat": 4,
 "nbformat_minor": 2
}
