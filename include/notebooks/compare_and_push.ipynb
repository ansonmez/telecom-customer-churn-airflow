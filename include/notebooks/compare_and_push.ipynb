{
 "cells": [
  {
   "cell_type": "code",
   "execution_count": 1,
   "metadata": {},
   "outputs": [],
   "source": [
    "import pickle"
   ]
  },
  {
   "cell_type": "code",
   "execution_count": 2,
   "metadata": {},
   "outputs": [],
   "source": [
    "with open(\"xgboost_model.pkl\", \"rb\") as handle:\n",
    "    xgb_acc, xgb_model = pickle.load(handle)\n",
    "\n",
    "with open(\"rf_model.pkl\", \"rb\") as handle:\n",
    "    rf_acc, rf_model = pickle.load(handle)\n",
    "\n",
    "if xgb_acc>rf_acc:\n",
    "    with open(\"best_model.pkl\", \"wb\") as handle:\n",
    "        pickle.dump({\"model_type\": \"xgboost\", \"model\": xgb_model}, handle)\n",
    "else:\n",
    "    with open(\"best_model.pkl\", \"wb\") as handle:\n",
    "        pickle.dump({\"model_type\": \"randomforest\", \"model\": rf_model}, handle)"
   ]
  }
 ],
 "metadata": {
  "kernelspec": {
   "display_name": "airflow",
   "language": "python",
   "name": "python3"
  },
  "language_info": {
   "codemirror_mode": {
    "name": "ipython",
    "version": 3
   },
   "file_extension": ".py",
   "mimetype": "text/x-python",
   "name": "python",
   "nbconvert_exporter": "python",
   "pygments_lexer": "ipython3",
   "version": "3.10.8"
  },
  "orig_nbformat": 4,
  "vscode": {
   "interpreter": {
    "hash": "2e3faf9729b7090bb03b222634211c9cfe48ae823637b8ba67422da03c70d659"
   }
  }
 },
 "nbformat": 4,
 "nbformat_minor": 2
}
